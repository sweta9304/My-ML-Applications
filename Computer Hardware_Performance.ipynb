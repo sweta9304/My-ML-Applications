{
 "cells": [
  {
   "cell_type": "markdown",
   "source": [
    "## Problem Statement:\n",
    "Dataset: Computer Hardware Dataset\n",
    "\n",
    "The aim is to estimate the relative CPU performance of a computer hardware dataset. "
   ],
   "metadata": {}
  },
  {
   "cell_type": "markdown",
   "source": [
    "## Data Set Information:\n",
    "\n",
    "**Attribute Information:**\n",
    "\n",
    "1. vendor name: 30\n",
    "(adviser, amdahl,apollo, basf, bti, burroughs, c.r.d, cambex, cdc, dec,\n",
    "dg, formation, four-phase, gould, honeywell, hp, ibm, ipl, magnuson,\n",
    "microdata, nas, ncr, nixdorf, perkin-elmer, prime, siemens, sperry,\n",
    "sratus, wang)\n",
    "2. Model Name: many unique symbols\n",
    "3. MYCT: machine cycle time in nanoseconds (integer)\n",
    "4. MMIN: minimum main memory in kilobytes (integer)\n",
    "5. MMAX: maximum main memory in kilobytes (integer)\n",
    "6. CACH: cache memory in kilobytes (integer)\n",
    "7. CHMIN: minimum channels in units (integer)\n",
    "8. CHMAX: maximum channels in units (integer)\n",
    "9. PRP: published relative performance (integer)\n",
    "10. ERP: estimated relative performance from the original article (integer)"
   ],
   "metadata": {}
  },
  {
   "cell_type": "code",
   "execution_count": 281,
   "source": [
    "# Importing python libraries\n",
    "\n",
    "import numpy as np # for mathematical operations\n",
    "import pandas as pd # to manage the dataset\n",
    "from sklearn.feature_selection import SelectKBest\n",
    "from sklearn.feature_selection import f_regression\n",
    "from sklearn.model_selection import KFold\n",
    "import matplotlib.pyplot as plt\n",
    "from sklearn.feature_selection import mutual_info_regression\n",
    "from numpy import mean\n",
    "from numpy import absolute\n",
    "from numpy import sqrt\n",
    "\n",
    "# For visualisation\n",
    "import matplotlib.pyplot as plt\n",
    "%matplotlib inline\n",
    "import seaborn as sns\n",
    "import warnings\n",
    "warnings.filterwarnings('ignore')"
   ],
   "outputs": [],
   "metadata": {}
  },
  {
   "cell_type": "code",
   "execution_count": 282,
   "source": [
    "# import the dataset\n",
    "input_file = \"machine.data\"\n",
    "df = pd.read_csv(input_file, header = None)"
   ],
   "outputs": [],
   "metadata": {}
  },
  {
   "cell_type": "markdown",
   "source": [
    "## 1. Data Visualization and Exploration"
   ],
   "metadata": {}
  },
  {
   "cell_type": "code",
   "execution_count": 283,
   "source": [
    "#1.1 printing first 5 rows of dataset\n",
    "df.head(2)\n"
   ],
   "outputs": [
    {
     "output_type": "execute_result",
     "data": {
      "text/plain": [
       "         0       1    2     3      4    5   6    7    8    9\n",
       "0  adviser   32/60  125   256   6000  256  16  128  198  199\n",
       "1   amdahl  470v/7   29  8000  32000   32   8   32  269  253"
      ],
      "text/html": [
       "<div>\n",
       "<style scoped>\n",
       "    .dataframe tbody tr th:only-of-type {\n",
       "        vertical-align: middle;\n",
       "    }\n",
       "\n",
       "    .dataframe tbody tr th {\n",
       "        vertical-align: top;\n",
       "    }\n",
       "\n",
       "    .dataframe thead th {\n",
       "        text-align: right;\n",
       "    }\n",
       "</style>\n",
       "<table border=\"1\" class=\"dataframe\">\n",
       "  <thead>\n",
       "    <tr style=\"text-align: right;\">\n",
       "      <th></th>\n",
       "      <th>0</th>\n",
       "      <th>1</th>\n",
       "      <th>2</th>\n",
       "      <th>3</th>\n",
       "      <th>4</th>\n",
       "      <th>5</th>\n",
       "      <th>6</th>\n",
       "      <th>7</th>\n",
       "      <th>8</th>\n",
       "      <th>9</th>\n",
       "    </tr>\n",
       "  </thead>\n",
       "  <tbody>\n",
       "    <tr>\n",
       "      <th>0</th>\n",
       "      <td>adviser</td>\n",
       "      <td>32/60</td>\n",
       "      <td>125</td>\n",
       "      <td>256</td>\n",
       "      <td>6000</td>\n",
       "      <td>256</td>\n",
       "      <td>16</td>\n",
       "      <td>128</td>\n",
       "      <td>198</td>\n",
       "      <td>199</td>\n",
       "    </tr>\n",
       "    <tr>\n",
       "      <th>1</th>\n",
       "      <td>amdahl</td>\n",
       "      <td>470v/7</td>\n",
       "      <td>29</td>\n",
       "      <td>8000</td>\n",
       "      <td>32000</td>\n",
       "      <td>32</td>\n",
       "      <td>8</td>\n",
       "      <td>32</td>\n",
       "      <td>269</td>\n",
       "      <td>253</td>\n",
       "    </tr>\n",
       "  </tbody>\n",
       "</table>\n",
       "</div>"
      ]
     },
     "metadata": {},
     "execution_count": 283
    }
   ],
   "metadata": {}
  },
  {
   "cell_type": "code",
   "execution_count": 284,
   "source": [
    "# printing shape of the dataset\n",
    "df.shape"
   ],
   "outputs": [
    {
     "output_type": "execute_result",
     "data": {
      "text/plain": [
       "(209, 10)"
      ]
     },
     "metadata": {},
     "execution_count": 284
    }
   ],
   "metadata": {}
  },
  {
   "cell_type": "code",
   "execution_count": 285,
   "source": [
    "# Renaming columns of dataframe\n",
    "col_names = ['Vendor Name','Model Name', 'Machine Cycle Time', 'Min Memory', 'MAX Memory', 'Cache memory'\n",
    "             ,'MIN Channel', 'MAX Channel', 'Published RP', 'Estimated RP' ]\n",
    "df.columns = col_names\n",
    "#Printed first 2 rows of dataset, all features are present.\n",
    "df.head(2)"
   ],
   "outputs": [
    {
     "output_type": "execute_result",
     "data": {
      "text/plain": [
       "  Vendor Name Model Name  Machine Cycle Time  Min Memory  MAX Memory  \\\n",
       "0     adviser      32/60                 125         256        6000   \n",
       "1      amdahl     470v/7                  29        8000       32000   \n",
       "\n",
       "   Cache memory  MIN Channel  MAX Channel  Published RP  Estimated RP  \n",
       "0           256           16          128           198           199  \n",
       "1            32            8           32           269           253  "
      ],
      "text/html": [
       "<div>\n",
       "<style scoped>\n",
       "    .dataframe tbody tr th:only-of-type {\n",
       "        vertical-align: middle;\n",
       "    }\n",
       "\n",
       "    .dataframe tbody tr th {\n",
       "        vertical-align: top;\n",
       "    }\n",
       "\n",
       "    .dataframe thead th {\n",
       "        text-align: right;\n",
       "    }\n",
       "</style>\n",
       "<table border=\"1\" class=\"dataframe\">\n",
       "  <thead>\n",
       "    <tr style=\"text-align: right;\">\n",
       "      <th></th>\n",
       "      <th>Vendor Name</th>\n",
       "      <th>Model Name</th>\n",
       "      <th>Machine Cycle Time</th>\n",
       "      <th>Min Memory</th>\n",
       "      <th>MAX Memory</th>\n",
       "      <th>Cache memory</th>\n",
       "      <th>MIN Channel</th>\n",
       "      <th>MAX Channel</th>\n",
       "      <th>Published RP</th>\n",
       "      <th>Estimated RP</th>\n",
       "    </tr>\n",
       "  </thead>\n",
       "  <tbody>\n",
       "    <tr>\n",
       "      <th>0</th>\n",
       "      <td>adviser</td>\n",
       "      <td>32/60</td>\n",
       "      <td>125</td>\n",
       "      <td>256</td>\n",
       "      <td>6000</td>\n",
       "      <td>256</td>\n",
       "      <td>16</td>\n",
       "      <td>128</td>\n",
       "      <td>198</td>\n",
       "      <td>199</td>\n",
       "    </tr>\n",
       "    <tr>\n",
       "      <th>1</th>\n",
       "      <td>amdahl</td>\n",
       "      <td>470v/7</td>\n",
       "      <td>29</td>\n",
       "      <td>8000</td>\n",
       "      <td>32000</td>\n",
       "      <td>32</td>\n",
       "      <td>8</td>\n",
       "      <td>32</td>\n",
       "      <td>269</td>\n",
       "      <td>253</td>\n",
       "    </tr>\n",
       "  </tbody>\n",
       "</table>\n",
       "</div>"
      ]
     },
     "metadata": {},
     "execution_count": 285
    }
   ],
   "metadata": {
    "tags": []
   }
  },
  {
   "cell_type": "code",
   "execution_count": 286,
   "source": [
    "#1.2 Class imbalance : Below outputs shows that data is not uniformly distributed as difference between mean and median is significant.\n",
    "df.describe()"
   ],
   "outputs": [
    {
     "output_type": "execute_result",
     "data": {
      "text/plain": [
       "       Machine Cycle Time    Min Memory    MAX Memory  Cache memory  \\\n",
       "count          209.000000    209.000000    209.000000    209.000000   \n",
       "mean           203.822967   2867.980861  11796.153110     25.205742   \n",
       "std            260.262926   3878.742758  11726.564377     40.628722   \n",
       "min             17.000000     64.000000     64.000000      0.000000   \n",
       "25%             50.000000    768.000000   4000.000000      0.000000   \n",
       "50%            110.000000   2000.000000   8000.000000      8.000000   \n",
       "75%            225.000000   4000.000000  16000.000000     32.000000   \n",
       "max           1500.000000  32000.000000  64000.000000    256.000000   \n",
       "\n",
       "       MIN Channel  MAX Channel  Published RP  Estimated RP  \n",
       "count   209.000000   209.000000    209.000000    209.000000  \n",
       "mean      4.698565    18.267943    105.622010     99.330144  \n",
       "std       6.816274    25.997318    160.830733    154.757102  \n",
       "min       0.000000     0.000000      6.000000     15.000000  \n",
       "25%       1.000000     5.000000     27.000000     28.000000  \n",
       "50%       2.000000     8.000000     50.000000     45.000000  \n",
       "75%       6.000000    24.000000    113.000000    101.000000  \n",
       "max      52.000000   176.000000   1150.000000   1238.000000  "
      ],
      "text/html": [
       "<div>\n",
       "<style scoped>\n",
       "    .dataframe tbody tr th:only-of-type {\n",
       "        vertical-align: middle;\n",
       "    }\n",
       "\n",
       "    .dataframe tbody tr th {\n",
       "        vertical-align: top;\n",
       "    }\n",
       "\n",
       "    .dataframe thead th {\n",
       "        text-align: right;\n",
       "    }\n",
       "</style>\n",
       "<table border=\"1\" class=\"dataframe\">\n",
       "  <thead>\n",
       "    <tr style=\"text-align: right;\">\n",
       "      <th></th>\n",
       "      <th>Machine Cycle Time</th>\n",
       "      <th>Min Memory</th>\n",
       "      <th>MAX Memory</th>\n",
       "      <th>Cache memory</th>\n",
       "      <th>MIN Channel</th>\n",
       "      <th>MAX Channel</th>\n",
       "      <th>Published RP</th>\n",
       "      <th>Estimated RP</th>\n",
       "    </tr>\n",
       "  </thead>\n",
       "  <tbody>\n",
       "    <tr>\n",
       "      <th>count</th>\n",
       "      <td>209.000000</td>\n",
       "      <td>209.000000</td>\n",
       "      <td>209.000000</td>\n",
       "      <td>209.000000</td>\n",
       "      <td>209.000000</td>\n",
       "      <td>209.000000</td>\n",
       "      <td>209.000000</td>\n",
       "      <td>209.000000</td>\n",
       "    </tr>\n",
       "    <tr>\n",
       "      <th>mean</th>\n",
       "      <td>203.822967</td>\n",
       "      <td>2867.980861</td>\n",
       "      <td>11796.153110</td>\n",
       "      <td>25.205742</td>\n",
       "      <td>4.698565</td>\n",
       "      <td>18.267943</td>\n",
       "      <td>105.622010</td>\n",
       "      <td>99.330144</td>\n",
       "    </tr>\n",
       "    <tr>\n",
       "      <th>std</th>\n",
       "      <td>260.262926</td>\n",
       "      <td>3878.742758</td>\n",
       "      <td>11726.564377</td>\n",
       "      <td>40.628722</td>\n",
       "      <td>6.816274</td>\n",
       "      <td>25.997318</td>\n",
       "      <td>160.830733</td>\n",
       "      <td>154.757102</td>\n",
       "    </tr>\n",
       "    <tr>\n",
       "      <th>min</th>\n",
       "      <td>17.000000</td>\n",
       "      <td>64.000000</td>\n",
       "      <td>64.000000</td>\n",
       "      <td>0.000000</td>\n",
       "      <td>0.000000</td>\n",
       "      <td>0.000000</td>\n",
       "      <td>6.000000</td>\n",
       "      <td>15.000000</td>\n",
       "    </tr>\n",
       "    <tr>\n",
       "      <th>25%</th>\n",
       "      <td>50.000000</td>\n",
       "      <td>768.000000</td>\n",
       "      <td>4000.000000</td>\n",
       "      <td>0.000000</td>\n",
       "      <td>1.000000</td>\n",
       "      <td>5.000000</td>\n",
       "      <td>27.000000</td>\n",
       "      <td>28.000000</td>\n",
       "    </tr>\n",
       "    <tr>\n",
       "      <th>50%</th>\n",
       "      <td>110.000000</td>\n",
       "      <td>2000.000000</td>\n",
       "      <td>8000.000000</td>\n",
       "      <td>8.000000</td>\n",
       "      <td>2.000000</td>\n",
       "      <td>8.000000</td>\n",
       "      <td>50.000000</td>\n",
       "      <td>45.000000</td>\n",
       "    </tr>\n",
       "    <tr>\n",
       "      <th>75%</th>\n",
       "      <td>225.000000</td>\n",
       "      <td>4000.000000</td>\n",
       "      <td>16000.000000</td>\n",
       "      <td>32.000000</td>\n",
       "      <td>6.000000</td>\n",
       "      <td>24.000000</td>\n",
       "      <td>113.000000</td>\n",
       "      <td>101.000000</td>\n",
       "    </tr>\n",
       "    <tr>\n",
       "      <th>max</th>\n",
       "      <td>1500.000000</td>\n",
       "      <td>32000.000000</td>\n",
       "      <td>64000.000000</td>\n",
       "      <td>256.000000</td>\n",
       "      <td>52.000000</td>\n",
       "      <td>176.000000</td>\n",
       "      <td>1150.000000</td>\n",
       "      <td>1238.000000</td>\n",
       "    </tr>\n",
       "  </tbody>\n",
       "</table>\n",
       "</div>"
      ]
     },
     "metadata": {},
     "execution_count": 286
    }
   ],
   "metadata": {}
  },
  {
   "cell_type": "code",
   "execution_count": 287,
   "source": [
    "# Info summary confirms that there are no missing or NULL values in dataframe as all values are non-null and equal to 209.\n",
    "df.info()"
   ],
   "outputs": [
    {
     "output_type": "stream",
     "name": "stdout",
     "text": [
      "<class 'pandas.core.frame.DataFrame'>\n",
      "RangeIndex: 209 entries, 0 to 208\n",
      "Data columns (total 10 columns):\n",
      " #   Column              Non-Null Count  Dtype \n",
      "---  ------              --------------  ----- \n",
      " 0   Vendor Name         209 non-null    object\n",
      " 1   Model Name          209 non-null    object\n",
      " 2   Machine Cycle Time  209 non-null    int64 \n",
      " 3   Min Memory          209 non-null    int64 \n",
      " 4   MAX Memory          209 non-null    int64 \n",
      " 5   Cache memory        209 non-null    int64 \n",
      " 6   MIN Channel         209 non-null    int64 \n",
      " 7   MAX Channel         209 non-null    int64 \n",
      " 8   Published RP        209 non-null    int64 \n",
      " 9   Estimated RP        209 non-null    int64 \n",
      "dtypes: int64(8), object(2)\n",
      "memory usage: 16.5+ KB\n"
     ]
    }
   ],
   "metadata": {}
  },
  {
   "cell_type": "markdown",
   "source": [
    "## 1.4. Data Correlational analysis"
   ],
   "metadata": {}
  },
  {
   "cell_type": "code",
   "execution_count": 288,
   "source": [
    "# Computing standard correlation coefficients (Pearson's r) for each pair of attributes\n",
    "corr_matrix = df.corr()\n",
    "corr_matrix"
   ],
   "outputs": [
    {
     "output_type": "execute_result",
     "data": {
      "text/plain": [
       "                    Machine Cycle Time  Min Memory  MAX Memory  Cache memory  \\\n",
       "Machine Cycle Time            1.000000   -0.335642   -0.378561     -0.321000   \n",
       "Min Memory                   -0.335642    1.000000    0.758157      0.534729   \n",
       "MAX Memory                   -0.378561    0.758157    1.000000      0.537990   \n",
       "Cache memory                 -0.321000    0.534729    0.537990      1.000000   \n",
       "MIN Channel                  -0.301090    0.517189    0.560513      0.582245   \n",
       "MAX Channel                  -0.250502    0.266907    0.527246      0.487846   \n",
       "Published RP                 -0.307099    0.794931    0.863004      0.662641   \n",
       "Estimated RP                 -0.288396    0.819292    0.901202      0.648620   \n",
       "\n",
       "                    MIN Channel  MAX Channel  Published RP  Estimated RP  \n",
       "Machine Cycle Time    -0.301090    -0.250502     -0.307099     -0.288396  \n",
       "Min Memory             0.517189     0.266907      0.794931      0.819292  \n",
       "MAX Memory             0.560513     0.527246      0.863004      0.901202  \n",
       "Cache memory           0.582245     0.487846      0.662641      0.648620  \n",
       "MIN Channel            1.000000     0.548281      0.608903      0.610580  \n",
       "MAX Channel            0.548281     1.000000      0.605209      0.592156  \n",
       "Published RP           0.608903     0.605209      1.000000      0.966472  \n",
       "Estimated RP           0.610580     0.592156      0.966472      1.000000  "
      ],
      "text/html": [
       "<div>\n",
       "<style scoped>\n",
       "    .dataframe tbody tr th:only-of-type {\n",
       "        vertical-align: middle;\n",
       "    }\n",
       "\n",
       "    .dataframe tbody tr th {\n",
       "        vertical-align: top;\n",
       "    }\n",
       "\n",
       "    .dataframe thead th {\n",
       "        text-align: right;\n",
       "    }\n",
       "</style>\n",
       "<table border=\"1\" class=\"dataframe\">\n",
       "  <thead>\n",
       "    <tr style=\"text-align: right;\">\n",
       "      <th></th>\n",
       "      <th>Machine Cycle Time</th>\n",
       "      <th>Min Memory</th>\n",
       "      <th>MAX Memory</th>\n",
       "      <th>Cache memory</th>\n",
       "      <th>MIN Channel</th>\n",
       "      <th>MAX Channel</th>\n",
       "      <th>Published RP</th>\n",
       "      <th>Estimated RP</th>\n",
       "    </tr>\n",
       "  </thead>\n",
       "  <tbody>\n",
       "    <tr>\n",
       "      <th>Machine Cycle Time</th>\n",
       "      <td>1.000000</td>\n",
       "      <td>-0.335642</td>\n",
       "      <td>-0.378561</td>\n",
       "      <td>-0.321000</td>\n",
       "      <td>-0.301090</td>\n",
       "      <td>-0.250502</td>\n",
       "      <td>-0.307099</td>\n",
       "      <td>-0.288396</td>\n",
       "    </tr>\n",
       "    <tr>\n",
       "      <th>Min Memory</th>\n",
       "      <td>-0.335642</td>\n",
       "      <td>1.000000</td>\n",
       "      <td>0.758157</td>\n",
       "      <td>0.534729</td>\n",
       "      <td>0.517189</td>\n",
       "      <td>0.266907</td>\n",
       "      <td>0.794931</td>\n",
       "      <td>0.819292</td>\n",
       "    </tr>\n",
       "    <tr>\n",
       "      <th>MAX Memory</th>\n",
       "      <td>-0.378561</td>\n",
       "      <td>0.758157</td>\n",
       "      <td>1.000000</td>\n",
       "      <td>0.537990</td>\n",
       "      <td>0.560513</td>\n",
       "      <td>0.527246</td>\n",
       "      <td>0.863004</td>\n",
       "      <td>0.901202</td>\n",
       "    </tr>\n",
       "    <tr>\n",
       "      <th>Cache memory</th>\n",
       "      <td>-0.321000</td>\n",
       "      <td>0.534729</td>\n",
       "      <td>0.537990</td>\n",
       "      <td>1.000000</td>\n",
       "      <td>0.582245</td>\n",
       "      <td>0.487846</td>\n",
       "      <td>0.662641</td>\n",
       "      <td>0.648620</td>\n",
       "    </tr>\n",
       "    <tr>\n",
       "      <th>MIN Channel</th>\n",
       "      <td>-0.301090</td>\n",
       "      <td>0.517189</td>\n",
       "      <td>0.560513</td>\n",
       "      <td>0.582245</td>\n",
       "      <td>1.000000</td>\n",
       "      <td>0.548281</td>\n",
       "      <td>0.608903</td>\n",
       "      <td>0.610580</td>\n",
       "    </tr>\n",
       "    <tr>\n",
       "      <th>MAX Channel</th>\n",
       "      <td>-0.250502</td>\n",
       "      <td>0.266907</td>\n",
       "      <td>0.527246</td>\n",
       "      <td>0.487846</td>\n",
       "      <td>0.548281</td>\n",
       "      <td>1.000000</td>\n",
       "      <td>0.605209</td>\n",
       "      <td>0.592156</td>\n",
       "    </tr>\n",
       "    <tr>\n",
       "      <th>Published RP</th>\n",
       "      <td>-0.307099</td>\n",
       "      <td>0.794931</td>\n",
       "      <td>0.863004</td>\n",
       "      <td>0.662641</td>\n",
       "      <td>0.608903</td>\n",
       "      <td>0.605209</td>\n",
       "      <td>1.000000</td>\n",
       "      <td>0.966472</td>\n",
       "    </tr>\n",
       "    <tr>\n",
       "      <th>Estimated RP</th>\n",
       "      <td>-0.288396</td>\n",
       "      <td>0.819292</td>\n",
       "      <td>0.901202</td>\n",
       "      <td>0.648620</td>\n",
       "      <td>0.610580</td>\n",
       "      <td>0.592156</td>\n",
       "      <td>0.966472</td>\n",
       "      <td>1.000000</td>\n",
       "    </tr>\n",
       "  </tbody>\n",
       "</table>\n",
       "</div>"
      ]
     },
     "metadata": {},
     "execution_count": 288
    }
   ],
   "metadata": {}
  },
  {
   "cell_type": "code",
   "execution_count": 289,
   "source": [
    "# The correlational analysis can have an effect on the feature selection process because it can help identify \n",
    "# which features are highly correlated with the target variable and therefore potentially more important for the model. \n",
    "# However, it is important to consider other factors as well, such as the relevance of the features to the problem at hand.\n",
    "# and the complexity of the model.\n",
    "\n",
    "# Plotting correlation heat map for our dataset\n",
    "\n",
    "plt.figure(figsize=(10,8))\n",
    "plt.title('Correlation Matrix')\n",
    "sns.heatmap(df.corr(), cmap=\"Blues\", annot=True)         \n",
    "plt.show()"
   ],
   "outputs": [
    {
     "output_type": "display_data",
     "data": {
      "text/plain": [
       "<Figure size 1000x800 with 2 Axes>"
      ],
      "image/png": "[encoded data removed]"
     },
     "metadata": {}
    }
   ],
   "metadata": {}
  },
  {
   "cell_type": "markdown",
   "source": [
    "## Correlational Analysis:\n",
    "From the correlation matrix, we found that Estimated RP is positively correlated with Min Memory, MAX Memory, Cache Memory , MIN Channel and MAX Channel, so using these features in our training model will improve accuracy of the model."
   ],
   "metadata": {}
  },
  {
   "cell_type": "markdown",
   "source": [
    "## 1.3. Data Visualizations"
   ],
   "metadata": {}
  },
  {
   "cell_type": "code",
   "execution_count": 290,
   "source": [
    "# To detect outliers in discrete variables, we plot Barplot for ['Machine Cycle Time', 'Min Memory', 'MAX Memory', 'Cache memory', 'MIN Channel', 'MAX Channel']\n",
    "\n",
    "for var in ['Machine Cycle Time', 'Min Memory', 'MAX Memory', 'Cache memory', 'MIN Channel', 'MAX Channel']:\n",
    "    plt.figure(figsize=(8,6))\n",
    "    (df.groupby(var)[var].count() / float(len(df))).plot.bar()\n",
    "    plt.ylabel('Percentage of observations per label')\n",
    "    plt.title(var)\n",
    "    plt.show()"
   ],
   "outputs": [
    {
     "output_type": "display_data",
     "data": {
      "text/plain": [
       "<Figure size 800x600 with 1 Axes>"
      ],
      "image/png": "[encoded data removed]"
     },
     "metadata": {}
    },
    {
     "output_type": "display_data",
     "data": {
      "text/plain": [
       "<Figure size 800x600 with 1 Axes>"
      ],
      "image/png": "[encoded data removed]"
     },
     "metadata": {}
    },
    {
     "output_type": "display_data",
     "data": {
      "text/plain": [
       "<Figure size 800x600 with 1 Axes>"
      ],
      "image/png": "[encoded data removed]"
     },
     "metadata": {}
    },
    {
     "output_type": "display_data",
     "data": {
      "text/plain": [
       "<Figure size 800x600 with 1 Axes>"
      ],
      "image/png": "[encoded data removed]"
     },
     "metadata": {}
    },
    {
     "output_type": "display_data",
     "data": {
      "text/plain": [
       "<Figure size 800x600 with 1 Axes>"
      ],
      "image/png": "[encoded data removed]"
     },
     "metadata": {}
    },
    {
     "output_type": "display_data",
     "data": {
      "text/plain": [
       "<Figure size 800x600 with 1 Axes>"
      ],
      "image/png": "[encoded data removed]"
     },
     "metadata": {}
    }
   ],
   "metadata": {}
  },
  {
   "cell_type": "code",
   "execution_count": 291,
   "source": [
    "# To get an insight into the dataset, we can use various types of visualizations such as scatter plots, box plots, and histograms. \n",
    "df.hist(sharex=False, sharey=False, xlabelsize=1, ylabelsize=1)\n",
    "plt.show()"
   ],
   "outputs": [
    {
     "output_type": "display_data",
     "data": {
      "text/plain": [
       "<Figure size 640x480 with 9 Axes>"
      ],
      "image/png": "[encoded data removed]"
     },
     "metadata": {}
    }
   ],
   "metadata": {}
  },
  {
   "cell_type": "code",
   "execution_count": 292,
   "source": [
    "# Visualize Density\n",
    "df.plot(kind='box', subplots=True, layout=(4,4), sharex=False, legend=False,\n",
    "fontsize=5)\n",
    "plt.show()"
   ],
   "outputs": [
    {
     "output_type": "display_data",
     "data": {
      "text/plain": [
       "<Figure size 640x480 with 16 Axes>"
      ],
      "image/png": "[encoded data removed]"
     },
     "metadata": {}
    }
   ],
   "metadata": {}
  },
  {
   "cell_type": "markdown",
   "source": [
    "## Data Cleaning(Removing outliers and Checking NULL/Missing Values)"
   ],
   "metadata": {}
  },
  {
   "cell_type": "code",
   "execution_count": 293,
   "source": [
    "# Finding the quantile using the DataFrame.quantile() Method\n",
    "\n",
    "Q1 = df.quantile(0.25)\n",
    "Q3 = df.quantile(0.75)\n",
    "IQR = Q3 - Q1\n",
    "out = ((df < (Q1 - 1.5 * IQR)) | (df > (Q3 + 1.5 * IQR))).sum()\n",
    "out"
   ],
   "outputs": [
    {
     "output_type": "execute_result",
     "data": {
      "text/plain": [
       "Cache memory          15\n",
       "Estimated RP          24\n",
       "MAX Channel           15\n",
       "MAX Memory             4\n",
       "MIN Channel           15\n",
       "Machine Cycle Time    20\n",
       "Min Memory             8\n",
       "Model Name             0\n",
       "Published RP          23\n",
       "Vendor Name            0\n",
       "dtype: int64"
      ]
     },
     "metadata": {},
     "execution_count": 293
    }
   ],
   "metadata": {}
  },
  {
   "cell_type": "code",
   "execution_count": 294,
   "source": [
    "# Handling outliers: This can be done using methods such as capping or truncating extreme values,or using robust scalers to transform the data.  \n",
    "# In our case we will be removing extreme values this will induce null values in the dataset so we can convert it to zero and drop those rows \n",
    "# (for our dataset using robust scalers and transformation causing overfitting to the model) \n",
    "\n",
    "mask = (df < (Q1 - 1.5 * IQR)) | (df > (Q3 + 1.5 * IQR))\n",
    "#print(mask)\n",
    "df[mask] = np.nan\n",
    "df = df.dropna()"
   ],
   "outputs": [],
   "metadata": {}
  },
  {
   "cell_type": "code",
   "execution_count": 295,
   "source": [
    "# Plotting histogram after removing outliers\n",
    "df.hist(sharex=False, sharey=False, xlabelsize=1, ylabelsize=1)\n",
    "plt.show()"
   ],
   "outputs": [
    {
     "output_type": "display_data",
     "data": {
      "text/plain": [
       "<Figure size 640x480 with 9 Axes>"
      ],
      "image/png": "[encoded data removed]"
     },
     "metadata": {}
    }
   ],
   "metadata": {}
  },
  {
   "cell_type": "code",
   "execution_count": 296,
   "source": [
    "# Box plot after removing outliers\n",
    "df.plot(kind='box', subplots=True, layout=(4,4), sharex=True, legend=True,\n",
    "fontsize=5)\n",
    "plt.show()"
   ],
   "outputs": [
    {
     "output_type": "display_data",
     "data": {
      "text/plain": [
       "<Figure size 640x480 with 16 Axes>"
      ],
      "image/png": "[encoded data removed]"
     },
     "metadata": {}
    }
   ],
   "metadata": {}
  },
  {
   "cell_type": "code",
   "execution_count": 297,
   "source": [
    "df.describe()"
   ],
   "outputs": [
    {
     "output_type": "execute_result",
     "data": {
      "text/plain": [
       "       Machine Cycle Time   Min Memory    MAX Memory  Cache memory  \\\n",
       "count          149.000000   149.000000    149.000000    149.000000   \n",
       "mean           146.429530  1975.328859   8890.899329     14.255034   \n",
       "std            108.928271  1787.823146   6269.005225     18.445740   \n",
       "min             17.000000    64.000000     64.000000      0.000000   \n",
       "25%             56.000000   768.000000   4000.000000      0.000000   \n",
       "50%            112.000000  2000.000000   8000.000000      8.000000   \n",
       "75%            200.000000  2000.000000  16000.000000     24.000000   \n",
       "max            480.000000  8000.000000  32000.000000     65.000000   \n",
       "\n",
       "       MIN Channel  MAX Channel  Published RP  Estimated RP  \n",
       "count   149.000000   149.000000    149.000000    149.000000  \n",
       "mean      2.979866    11.093960     59.718121     55.436242  \n",
       "std       2.795918     8.923354     46.510255     38.805879  \n",
       "min       0.000000     0.000000      6.000000     15.000000  \n",
       "25%       1.000000     5.000000     29.000000     27.000000  \n",
       "50%       1.000000     8.000000     45.000000     42.000000  \n",
       "75%       4.000000    16.000000     71.000000     74.000000  \n",
       "max      12.000000    48.000000    237.000000    183.000000  "
      ],
      "text/html": [
       "<div>\n",
       "<style scoped>\n",
       "    .dataframe tbody tr th:only-of-type {\n",
       "        vertical-align: middle;\n",
       "    }\n",
       "\n",
       "    .dataframe tbody tr th {\n",
       "        vertical-align: top;\n",
       "    }\n",
       "\n",
       "    .dataframe thead th {\n",
       "        text-align: right;\n",
       "    }\n",
       "</style>\n",
       "<table border=\"1\" class=\"dataframe\">\n",
       "  <thead>\n",
       "    <tr style=\"text-align: right;\">\n",
       "      <th></th>\n",
       "      <th>Machine Cycle Time</th>\n",
       "      <th>Min Memory</th>\n",
       "      <th>MAX Memory</th>\n",
       "      <th>Cache memory</th>\n",
       "      <th>MIN Channel</th>\n",
       "      <th>MAX Channel</th>\n",
       "      <th>Published RP</th>\n",
       "      <th>Estimated RP</th>\n",
       "    </tr>\n",
       "  </thead>\n",
       "  <tbody>\n",
       "    <tr>\n",
       "      <th>count</th>\n",
       "      <td>149.000000</td>\n",
       "      <td>149.000000</td>\n",
       "      <td>149.000000</td>\n",
       "      <td>149.000000</td>\n",
       "      <td>149.000000</td>\n",
       "      <td>149.000000</td>\n",
       "      <td>149.000000</td>\n",
       "      <td>149.000000</td>\n",
       "    </tr>\n",
       "    <tr>\n",
       "      <th>mean</th>\n",
       "      <td>146.429530</td>\n",
       "      <td>1975.328859</td>\n",
       "      <td>8890.899329</td>\n",
       "      <td>14.255034</td>\n",
       "      <td>2.979866</td>\n",
       "      <td>11.093960</td>\n",
       "      <td>59.718121</td>\n",
       "      <td>55.436242</td>\n",
       "    </tr>\n",
       "    <tr>\n",
       "      <th>std</th>\n",
       "      <td>108.928271</td>\n",
       "      <td>1787.823146</td>\n",
       "      <td>6269.005225</td>\n",
       "      <td>18.445740</td>\n",
       "      <td>2.795918</td>\n",
       "      <td>8.923354</td>\n",
       "      <td>46.510255</td>\n",
       "      <td>38.805879</td>\n",
       "    </tr>\n",
       "    <tr>\n",
       "      <th>min</th>\n",
       "      <td>17.000000</td>\n",
       "      <td>64.000000</td>\n",
       "      <td>64.000000</td>\n",
       "      <td>0.000000</td>\n",
       "      <td>0.000000</td>\n",
       "      <td>0.000000</td>\n",
       "      <td>6.000000</td>\n",
       "      <td>15.000000</td>\n",
       "    </tr>\n",
       "    <tr>\n",
       "      <th>25%</th>\n",
       "      <td>56.000000</td>\n",
       "      <td>768.000000</td>\n",
       "      <td>4000.000000</td>\n",
       "      <td>0.000000</td>\n",
       "      <td>1.000000</td>\n",
       "      <td>5.000000</td>\n",
       "      <td>29.000000</td>\n",
       "      <td>27.000000</td>\n",
       "    </tr>\n",
       "    <tr>\n",
       "      <th>50%</th>\n",
       "      <td>112.000000</td>\n",
       "      <td>2000.000000</td>\n",
       "      <td>8000.000000</td>\n",
       "      <td>8.000000</td>\n",
       "      <td>1.000000</td>\n",
       "      <td>8.000000</td>\n",
       "      <td>45.000000</td>\n",
       "      <td>42.000000</td>\n",
       "    </tr>\n",
       "    <tr>\n",
       "      <th>75%</th>\n",
       "      <td>200.000000</td>\n",
       "      <td>2000.000000</td>\n",
       "      <td>16000.000000</td>\n",
       "      <td>24.000000</td>\n",
       "      <td>4.000000</td>\n",
       "      <td>16.000000</td>\n",
       "      <td>71.000000</td>\n",
       "      <td>74.000000</td>\n",
       "    </tr>\n",
       "    <tr>\n",
       "      <th>max</th>\n",
       "      <td>480.000000</td>\n",
       "      <td>8000.000000</td>\n",
       "      <td>32000.000000</td>\n",
       "      <td>65.000000</td>\n",
       "      <td>12.000000</td>\n",
       "      <td>48.000000</td>\n",
       "      <td>237.000000</td>\n",
       "      <td>183.000000</td>\n",
       "    </tr>\n",
       "  </tbody>\n",
       "</table>\n",
       "</div>"
      ]
     },
     "metadata": {},
     "execution_count": 297
    }
   ],
   "metadata": {}
  },
  {
   "cell_type": "code",
   "execution_count": 298,
   "source": [
    "# Info summary confirms that there are no missing or NULL values in dataframe as all values are non-null and equal to 209.\n",
    "df.info()"
   ],
   "outputs": [
    {
     "output_type": "stream",
     "name": "stdout",
     "text": [
      "<class 'pandas.core.frame.DataFrame'>\n",
      "Int64Index: 149 entries, 4 to 208\n",
      "Data columns (total 10 columns):\n",
      " #   Column              Non-Null Count  Dtype  \n",
      "---  ------              --------------  -----  \n",
      " 0   Vendor Name         149 non-null    object \n",
      " 1   Model Name          149 non-null    object \n",
      " 2   Machine Cycle Time  149 non-null    float64\n",
      " 3   Min Memory          149 non-null    float64\n",
      " 4   MAX Memory          149 non-null    float64\n",
      " 5   Cache memory        149 non-null    float64\n",
      " 6   MIN Channel         149 non-null    float64\n",
      " 7   MAX Channel         149 non-null    float64\n",
      " 8   Published RP        149 non-null    float64\n",
      " 9   Estimated RP        149 non-null    float64\n",
      "dtypes: float64(8), object(2)\n",
      "memory usage: 12.8+ KB\n"
     ]
    }
   ],
   "metadata": {}
  },
  {
   "cell_type": "code",
   "execution_count": 299,
   "source": [
    "# seperating the categorical columns from the dataframe\n",
    "df_cat = [column for column in df.columns if df[column].dtype=='O']\n",
    "df_cat"
   ],
   "outputs": [
    {
     "output_type": "execute_result",
     "data": {
      "text/plain": [
       "['Vendor Name', 'Model Name']"
      ]
     },
     "metadata": {},
     "execution_count": 299
    }
   ],
   "metadata": {}
  },
  {
   "cell_type": "code",
   "execution_count": 300,
   "source": [
    "# As from the dataset introduction we got to know there are 30 vendors,\n",
    "# checking the count of each vendor in the dataframe\n",
    "\n",
    "df['Vendor Name'].value_counts()"
   ],
   "outputs": [
    {
     "output_type": "execute_result",
     "data": {
      "text/plain": [
       "ibm             18\n",
       "nas             14\n",
       "siemens         10\n",
       "ncr              9\n",
       "sperry           8\n",
       "honeywell        8\n",
       "hp               7\n",
       "harris           7\n",
       "cdc              7\n",
       "c.r.d            6\n",
       "ipl              6\n",
       "magnuson         6\n",
       "cambex           5\n",
       "prime            5\n",
       "burroughs        5\n",
       "dg               5\n",
       "dec              4\n",
       "perkin-elmer     3\n",
       "nixdorf          3\n",
       "wang             2\n",
       "apollo           2\n",
       "gould            2\n",
       "bti              2\n",
       "basf             2\n",
       "four-phase       1\n",
       "sratus           1\n",
       "amdahl           1\n",
       "Name: Vendor Name, dtype: int64"
      ]
     },
     "metadata": {},
     "execution_count": 300
    }
   ],
   "metadata": {}
  },
  {
   "cell_type": "code",
   "execution_count": 301,
   "source": [
    "# finding out if there are any duplicate model names \n",
    "df['Model Name'].duplicated().any()"
   ],
   "outputs": [
    {
     "output_type": "execute_result",
     "data": {
      "text/plain": [
       "False"
      ]
     },
     "metadata": {},
     "execution_count": 301
    }
   ],
   "metadata": {}
  },
  {
   "cell_type": "code",
   "execution_count": 302,
   "source": [
    "#Seperating numerical columns from the dataframe\n",
    "\n",
    "df_num = [column for column in df.columns if df[column].dtype!='O']\n",
    "df_num"
   ],
   "outputs": [
    {
     "output_type": "execute_result",
     "data": {
      "text/plain": [
       "['Machine Cycle Time',\n",
       " 'Min Memory',\n",
       " 'MAX Memory',\n",
       " 'Cache memory',\n",
       " 'MIN Channel',\n",
       " 'MAX Channel',\n",
       " 'Published RP',\n",
       " 'Estimated RP']"
      ]
     },
     "metadata": {},
     "execution_count": 302
    }
   ],
   "metadata": {}
  },
  {
   "cell_type": "code",
   "execution_count": 303,
   "source": [
    "# printing top 5 rows of numerical variables\n",
    "df[df_num].head()"
   ],
   "outputs": [
    {
     "output_type": "execute_result",
     "data": {
      "text/plain": [
       "    Machine Cycle Time  Min Memory  MAX Memory  Cache memory  MIN Channel  \\\n",
       "4                 29.0      8000.0     16000.0          32.0          8.0   \n",
       "10               400.0      1000.0      3000.0           0.0          1.0   \n",
       "11               400.0       512.0      3500.0           4.0          1.0   \n",
       "12                60.0      2000.0      8000.0          65.0          1.0   \n",
       "13                50.0      4000.0     16000.0          65.0          1.0   \n",
       "\n",
       "    MAX Channel  Published RP  Estimated RP  \n",
       "4          16.0         132.0         132.0  \n",
       "10          2.0          38.0          23.0  \n",
       "11          6.0          40.0          24.0  \n",
       "12          8.0          92.0          70.0  \n",
       "13          8.0         138.0         117.0  "
      ],
      "text/html": [
       "<div>\n",
       "<style scoped>\n",
       "    .dataframe tbody tr th:only-of-type {\n",
       "        vertical-align: middle;\n",
       "    }\n",
       "\n",
       "    .dataframe tbody tr th {\n",
       "        vertical-align: top;\n",
       "    }\n",
       "\n",
       "    .dataframe thead th {\n",
       "        text-align: right;\n",
       "    }\n",
       "</style>\n",
       "<table border=\"1\" class=\"dataframe\">\n",
       "  <thead>\n",
       "    <tr style=\"text-align: right;\">\n",
       "      <th></th>\n",
       "      <th>Machine Cycle Time</th>\n",
       "      <th>Min Memory</th>\n",
       "      <th>MAX Memory</th>\n",
       "      <th>Cache memory</th>\n",
       "      <th>MIN Channel</th>\n",
       "      <th>MAX Channel</th>\n",
       "      <th>Published RP</th>\n",
       "      <th>Estimated RP</th>\n",
       "    </tr>\n",
       "  </thead>\n",
       "  <tbody>\n",
       "    <tr>\n",
       "      <th>4</th>\n",
       "      <td>29.0</td>\n",
       "      <td>8000.0</td>\n",
       "      <td>16000.0</td>\n",
       "      <td>32.0</td>\n",
       "      <td>8.0</td>\n",
       "      <td>16.0</td>\n",
       "      <td>132.0</td>\n",
       "      <td>132.0</td>\n",
       "    </tr>\n",
       "    <tr>\n",
       "      <th>10</th>\n",
       "      <td>400.0</td>\n",
       "      <td>1000.0</td>\n",
       "      <td>3000.0</td>\n",
       "      <td>0.0</td>\n",
       "      <td>1.0</td>\n",
       "      <td>2.0</td>\n",
       "      <td>38.0</td>\n",
       "      <td>23.0</td>\n",
       "    </tr>\n",
       "    <tr>\n",
       "      <th>11</th>\n",
       "      <td>400.0</td>\n",
       "      <td>512.0</td>\n",
       "      <td>3500.0</td>\n",
       "      <td>4.0</td>\n",
       "      <td>1.0</td>\n",
       "      <td>6.0</td>\n",
       "      <td>40.0</td>\n",
       "      <td>24.0</td>\n",
       "    </tr>\n",
       "    <tr>\n",
       "      <th>12</th>\n",
       "      <td>60.0</td>\n",
       "      <td>2000.0</td>\n",
       "      <td>8000.0</td>\n",
       "      <td>65.0</td>\n",
       "      <td>1.0</td>\n",
       "      <td>8.0</td>\n",
       "      <td>92.0</td>\n",
       "      <td>70.0</td>\n",
       "    </tr>\n",
       "    <tr>\n",
       "      <th>13</th>\n",
       "      <td>50.0</td>\n",
       "      <td>4000.0</td>\n",
       "      <td>16000.0</td>\n",
       "      <td>65.0</td>\n",
       "      <td>1.0</td>\n",
       "      <td>8.0</td>\n",
       "      <td>138.0</td>\n",
       "      <td>117.0</td>\n",
       "    </tr>\n",
       "  </tbody>\n",
       "</table>\n",
       "</div>"
      ]
     },
     "metadata": {},
     "execution_count": 303
    }
   ],
   "metadata": {}
  },
  {
   "cell_type": "code",
   "execution_count": 304,
   "source": [
    "# As we see in the dataframe we have Published RP and  Estimated RP,\n",
    "# our aim is to predict the Estimated RP, hence it is the target variable.\n",
    "# Published RP is a redundant column and can ignored."
   ],
   "outputs": [],
   "metadata": {}
  },
  {
   "cell_type": "code",
   "execution_count": 305,
   "source": [
    "# To check outliers in discrete variables\n",
    "df.describe()"
   ],
   "outputs": [
    {
     "output_type": "execute_result",
     "data": {
      "text/plain": [
       "       Machine Cycle Time   Min Memory    MAX Memory  Cache memory  \\\n",
       "count          149.000000   149.000000    149.000000    149.000000   \n",
       "mean           146.429530  1975.328859   8890.899329     14.255034   \n",
       "std            108.928271  1787.823146   6269.005225     18.445740   \n",
       "min             17.000000    64.000000     64.000000      0.000000   \n",
       "25%             56.000000   768.000000   4000.000000      0.000000   \n",
       "50%            112.000000  2000.000000   8000.000000      8.000000   \n",
       "75%            200.000000  2000.000000  16000.000000     24.000000   \n",
       "max            480.000000  8000.000000  32000.000000     65.000000   \n",
       "\n",
       "       MIN Channel  MAX Channel  Published RP  Estimated RP  \n",
       "count   149.000000   149.000000    149.000000    149.000000  \n",
       "mean      2.979866    11.093960     59.718121     55.436242  \n",
       "std       2.795918     8.923354     46.510255     38.805879  \n",
       "min       0.000000     0.000000      6.000000     15.000000  \n",
       "25%       1.000000     5.000000     29.000000     27.000000  \n",
       "50%       1.000000     8.000000     45.000000     42.000000  \n",
       "75%       4.000000    16.000000     71.000000     74.000000  \n",
       "max      12.000000    48.000000    237.000000    183.000000  "
      ],
      "text/html": [
       "<div>\n",
       "<style scoped>\n",
       "    .dataframe tbody tr th:only-of-type {\n",
       "        vertical-align: middle;\n",
       "    }\n",
       "\n",
       "    .dataframe tbody tr th {\n",
       "        vertical-align: top;\n",
       "    }\n",
       "\n",
       "    .dataframe thead th {\n",
       "        text-align: right;\n",
       "    }\n",
       "</style>\n",
       "<table border=\"1\" class=\"dataframe\">\n",
       "  <thead>\n",
       "    <tr style=\"text-align: right;\">\n",
       "      <th></th>\n",
       "      <th>Machine Cycle Time</th>\n",
       "      <th>Min Memory</th>\n",
       "      <th>MAX Memory</th>\n",
       "      <th>Cache memory</th>\n",
       "      <th>MIN Channel</th>\n",
       "      <th>MAX Channel</th>\n",
       "      <th>Published RP</th>\n",
       "      <th>Estimated RP</th>\n",
       "    </tr>\n",
       "  </thead>\n",
       "  <tbody>\n",
       "    <tr>\n",
       "      <th>count</th>\n",
       "      <td>149.000000</td>\n",
       "      <td>149.000000</td>\n",
       "      <td>149.000000</td>\n",
       "      <td>149.000000</td>\n",
       "      <td>149.000000</td>\n",
       "      <td>149.000000</td>\n",
       "      <td>149.000000</td>\n",
       "      <td>149.000000</td>\n",
       "    </tr>\n",
       "    <tr>\n",
       "      <th>mean</th>\n",
       "      <td>146.429530</td>\n",
       "      <td>1975.328859</td>\n",
       "      <td>8890.899329</td>\n",
       "      <td>14.255034</td>\n",
       "      <td>2.979866</td>\n",
       "      <td>11.093960</td>\n",
       "      <td>59.718121</td>\n",
       "      <td>55.436242</td>\n",
       "    </tr>\n",
       "    <tr>\n",
       "      <th>std</th>\n",
       "      <td>108.928271</td>\n",
       "      <td>1787.823146</td>\n",
       "      <td>6269.005225</td>\n",
       "      <td>18.445740</td>\n",
       "      <td>2.795918</td>\n",
       "      <td>8.923354</td>\n",
       "      <td>46.510255</td>\n",
       "      <td>38.805879</td>\n",
       "    </tr>\n",
       "    <tr>\n",
       "      <th>min</th>\n",
       "      <td>17.000000</td>\n",
       "      <td>64.000000</td>\n",
       "      <td>64.000000</td>\n",
       "      <td>0.000000</td>\n",
       "      <td>0.000000</td>\n",
       "      <td>0.000000</td>\n",
       "      <td>6.000000</td>\n",
       "      <td>15.000000</td>\n",
       "    </tr>\n",
       "    <tr>\n",
       "      <th>25%</th>\n",
       "      <td>56.000000</td>\n",
       "      <td>768.000000</td>\n",
       "      <td>4000.000000</td>\n",
       "      <td>0.000000</td>\n",
       "      <td>1.000000</td>\n",
       "      <td>5.000000</td>\n",
       "      <td>29.000000</td>\n",
       "      <td>27.000000</td>\n",
       "    </tr>\n",
       "    <tr>\n",
       "      <th>50%</th>\n",
       "      <td>112.000000</td>\n",
       "      <td>2000.000000</td>\n",
       "      <td>8000.000000</td>\n",
       "      <td>8.000000</td>\n",
       "      <td>1.000000</td>\n",
       "      <td>8.000000</td>\n",
       "      <td>45.000000</td>\n",
       "      <td>42.000000</td>\n",
       "    </tr>\n",
       "    <tr>\n",
       "      <th>75%</th>\n",
       "      <td>200.000000</td>\n",
       "      <td>2000.000000</td>\n",
       "      <td>16000.000000</td>\n",
       "      <td>24.000000</td>\n",
       "      <td>4.000000</td>\n",
       "      <td>16.000000</td>\n",
       "      <td>71.000000</td>\n",
       "      <td>74.000000</td>\n",
       "    </tr>\n",
       "    <tr>\n",
       "      <th>max</th>\n",
       "      <td>480.000000</td>\n",
       "      <td>8000.000000</td>\n",
       "      <td>32000.000000</td>\n",
       "      <td>65.000000</td>\n",
       "      <td>12.000000</td>\n",
       "      <td>48.000000</td>\n",
       "      <td>237.000000</td>\n",
       "      <td>183.000000</td>\n",
       "    </tr>\n",
       "  </tbody>\n",
       "</table>\n",
       "</div>"
      ]
     },
     "metadata": {},
     "execution_count": 305
    }
   ],
   "metadata": {}
  },
  {
   "cell_type": "code",
   "execution_count": 306,
   "source": [
    "# checking for null values - No Null values present\n",
    "df.isnull().sum()"
   ],
   "outputs": [
    {
     "output_type": "execute_result",
     "data": {
      "text/plain": [
       "Vendor Name           0\n",
       "Model Name            0\n",
       "Machine Cycle Time    0\n",
       "Min Memory            0\n",
       "MAX Memory            0\n",
       "Cache memory          0\n",
       "MIN Channel           0\n",
       "MAX Channel           0\n",
       "Published RP          0\n",
       "Estimated RP          0\n",
       "dtype: int64"
      ]
     },
     "metadata": {},
     "execution_count": 306
    }
   ],
   "metadata": {}
  },
  {
   "cell_type": "code",
   "execution_count": 307,
   "source": [
    "# Splitting the dataset into numerical and categorical dataset\n",
    "df_categorical = df.iloc[:,:2]\n",
    "\n",
    "df_categorical.head()"
   ],
   "outputs": [
    {
     "output_type": "execute_result",
     "data": {
      "text/plain": [
       "   Vendor Name Model Name\n",
       "4       amdahl    470v/7c\n",
       "10      apollo      dn320\n",
       "11      apollo      dn420\n",
       "12        basf       7/65\n",
       "13        basf       7/68"
      ],
      "text/html": [
       "<div>\n",
       "<style scoped>\n",
       "    .dataframe tbody tr th:only-of-type {\n",
       "        vertical-align: middle;\n",
       "    }\n",
       "\n",
       "    .dataframe tbody tr th {\n",
       "        vertical-align: top;\n",
       "    }\n",
       "\n",
       "    .dataframe thead th {\n",
       "        text-align: right;\n",
       "    }\n",
       "</style>\n",
       "<table border=\"1\" class=\"dataframe\">\n",
       "  <thead>\n",
       "    <tr style=\"text-align: right;\">\n",
       "      <th></th>\n",
       "      <th>Vendor Name</th>\n",
       "      <th>Model Name</th>\n",
       "    </tr>\n",
       "  </thead>\n",
       "  <tbody>\n",
       "    <tr>\n",
       "      <th>4</th>\n",
       "      <td>amdahl</td>\n",
       "      <td>470v/7c</td>\n",
       "    </tr>\n",
       "    <tr>\n",
       "      <th>10</th>\n",
       "      <td>apollo</td>\n",
       "      <td>dn320</td>\n",
       "    </tr>\n",
       "    <tr>\n",
       "      <th>11</th>\n",
       "      <td>apollo</td>\n",
       "      <td>dn420</td>\n",
       "    </tr>\n",
       "    <tr>\n",
       "      <th>12</th>\n",
       "      <td>basf</td>\n",
       "      <td>7/65</td>\n",
       "    </tr>\n",
       "    <tr>\n",
       "      <th>13</th>\n",
       "      <td>basf</td>\n",
       "      <td>7/68</td>\n",
       "    </tr>\n",
       "  </tbody>\n",
       "</table>\n",
       "</div>"
      ]
     },
     "metadata": {},
     "execution_count": 307
    }
   ],
   "metadata": {}
  },
  {
   "cell_type": "code",
   "execution_count": 308,
   "source": [
    "df_numerical = df.iloc[:, 2:]\n",
    "\n",
    "df_numerical.head()"
   ],
   "outputs": [
    {
     "output_type": "execute_result",
     "data": {
      "text/plain": [
       "    Machine Cycle Time  Min Memory  MAX Memory  Cache memory  MIN Channel  \\\n",
       "4                 29.0      8000.0     16000.0          32.0          8.0   \n",
       "10               400.0      1000.0      3000.0           0.0          1.0   \n",
       "11               400.0       512.0      3500.0           4.0          1.0   \n",
       "12                60.0      2000.0      8000.0          65.0          1.0   \n",
       "13                50.0      4000.0     16000.0          65.0          1.0   \n",
       "\n",
       "    MAX Channel  Published RP  Estimated RP  \n",
       "4          16.0         132.0         132.0  \n",
       "10          2.0          38.0          23.0  \n",
       "11          6.0          40.0          24.0  \n",
       "12          8.0          92.0          70.0  \n",
       "13          8.0         138.0         117.0  "
      ],
      "text/html": [
       "<div>\n",
       "<style scoped>\n",
       "    .dataframe tbody tr th:only-of-type {\n",
       "        vertical-align: middle;\n",
       "    }\n",
       "\n",
       "    .dataframe tbody tr th {\n",
       "        vertical-align: top;\n",
       "    }\n",
       "\n",
       "    .dataframe thead th {\n",
       "        text-align: right;\n",
       "    }\n",
       "</style>\n",
       "<table border=\"1\" class=\"dataframe\">\n",
       "  <thead>\n",
       "    <tr style=\"text-align: right;\">\n",
       "      <th></th>\n",
       "      <th>Machine Cycle Time</th>\n",
       "      <th>Min Memory</th>\n",
       "      <th>MAX Memory</th>\n",
       "      <th>Cache memory</th>\n",
       "      <th>MIN Channel</th>\n",
       "      <th>MAX Channel</th>\n",
       "      <th>Published RP</th>\n",
       "      <th>Estimated RP</th>\n",
       "    </tr>\n",
       "  </thead>\n",
       "  <tbody>\n",
       "    <tr>\n",
       "      <th>4</th>\n",
       "      <td>29.0</td>\n",
       "      <td>8000.0</td>\n",
       "      <td>16000.0</td>\n",
       "      <td>32.0</td>\n",
       "      <td>8.0</td>\n",
       "      <td>16.0</td>\n",
       "      <td>132.0</td>\n",
       "      <td>132.0</td>\n",
       "    </tr>\n",
       "    <tr>\n",
       "      <th>10</th>\n",
       "      <td>400.0</td>\n",
       "      <td>1000.0</td>\n",
       "      <td>3000.0</td>\n",
       "      <td>0.0</td>\n",
       "      <td>1.0</td>\n",
       "      <td>2.0</td>\n",
       "      <td>38.0</td>\n",
       "      <td>23.0</td>\n",
       "    </tr>\n",
       "    <tr>\n",
       "      <th>11</th>\n",
       "      <td>400.0</td>\n",
       "      <td>512.0</td>\n",
       "      <td>3500.0</td>\n",
       "      <td>4.0</td>\n",
       "      <td>1.0</td>\n",
       "      <td>6.0</td>\n",
       "      <td>40.0</td>\n",
       "      <td>24.0</td>\n",
       "    </tr>\n",
       "    <tr>\n",
       "      <th>12</th>\n",
       "      <td>60.0</td>\n",
       "      <td>2000.0</td>\n",
       "      <td>8000.0</td>\n",
       "      <td>65.0</td>\n",
       "      <td>1.0</td>\n",
       "      <td>8.0</td>\n",
       "      <td>92.0</td>\n",
       "      <td>70.0</td>\n",
       "    </tr>\n",
       "    <tr>\n",
       "      <th>13</th>\n",
       "      <td>50.0</td>\n",
       "      <td>4000.0</td>\n",
       "      <td>16000.0</td>\n",
       "      <td>65.0</td>\n",
       "      <td>1.0</td>\n",
       "      <td>8.0</td>\n",
       "      <td>138.0</td>\n",
       "      <td>117.0</td>\n",
       "    </tr>\n",
       "  </tbody>\n",
       "</table>\n",
       "</div>"
      ]
     },
     "metadata": {},
     "execution_count": 308
    }
   ],
   "metadata": {}
  },
  {
   "cell_type": "markdown",
   "source": [
    "## 3. Modelling Building: Linear Regression"
   ],
   "metadata": {}
  },
  {
   "cell_type": "code",
   "execution_count": 309,
   "source": [
    "# Selecting the predictor and target variables from df_numerical\n",
    "# We will ignore Published RP as it is a redundant column\n",
    "\n",
    "X = df_numerical.iloc[:,0:6]\n",
    "\n",
    "Y = df_numerical.iloc[:,-1]"
   ],
   "outputs": [],
   "metadata": {}
  },
  {
   "cell_type": "markdown",
   "source": [
    "## Feature selection"
   ],
   "metadata": {}
  },
  {
   "cell_type": "code",
   "execution_count": 310,
   "source": [
    "# Feature Selection: This involves selecting a subset of the most relevant or important features for the model.\n",
    "\n",
    "f_selector = SelectKBest(score_func=f_regression, k='all')\n",
    "# learn relationship from training data\n",
    "f_selector.fit(X, Y)\n",
    "# transform train input data\n",
    "X_train_fs = f_selector.transform(X)\n",
    "# transform test input data\n",
    "#X_test_fs = f_selector.transform(X_test)\n",
    "# Plot the scores for the features\n",
    "plt.bar([i for i in range(len(f_selector.scores_))], f_selector.scores_)\n",
    "plt.xlabel(\"feature index\")\n",
    "plt.ylabel(\"F-value (transformed from the correlation values)\")\n",
    "plt.show()"
   ],
   "outputs": [
    {
     "output_type": "display_data",
     "data": {
      "text/plain": [
       "<Figure size 640x480 with 1 Axes>"
      ],
      "image/png": "[encoded data removed]"
     },
     "metadata": {}
    }
   ],
   "metadata": {}
  },
  {
   "cell_type": "code",
   "execution_count": 311,
   "source": [
    "X.head()\n"
   ],
   "outputs": [
    {
     "output_type": "execute_result",
     "data": {
      "text/plain": [
       "    Machine Cycle Time  Min Memory  MAX Memory  Cache memory  MIN Channel  \\\n",
       "4                 29.0      8000.0     16000.0          32.0          8.0   \n",
       "10               400.0      1000.0      3000.0           0.0          1.0   \n",
       "11               400.0       512.0      3500.0           4.0          1.0   \n",
       "12                60.0      2000.0      8000.0          65.0          1.0   \n",
       "13                50.0      4000.0     16000.0          65.0          1.0   \n",
       "\n",
       "    MAX Channel  \n",
       "4          16.0  \n",
       "10          2.0  \n",
       "11          6.0  \n",
       "12          8.0  \n",
       "13          8.0  "
      ],
      "text/html": [
       "<div>\n",
       "<style scoped>\n",
       "    .dataframe tbody tr th:only-of-type {\n",
       "        vertical-align: middle;\n",
       "    }\n",
       "\n",
       "    .dataframe tbody tr th {\n",
       "        vertical-align: top;\n",
       "    }\n",
       "\n",
       "    .dataframe thead th {\n",
       "        text-align: right;\n",
       "    }\n",
       "</style>\n",
       "<table border=\"1\" class=\"dataframe\">\n",
       "  <thead>\n",
       "    <tr style=\"text-align: right;\">\n",
       "      <th></th>\n",
       "      <th>Machine Cycle Time</th>\n",
       "      <th>Min Memory</th>\n",
       "      <th>MAX Memory</th>\n",
       "      <th>Cache memory</th>\n",
       "      <th>MIN Channel</th>\n",
       "      <th>MAX Channel</th>\n",
       "    </tr>\n",
       "  </thead>\n",
       "  <tbody>\n",
       "    <tr>\n",
       "      <th>4</th>\n",
       "      <td>29.0</td>\n",
       "      <td>8000.0</td>\n",
       "      <td>16000.0</td>\n",
       "      <td>32.0</td>\n",
       "      <td>8.0</td>\n",
       "      <td>16.0</td>\n",
       "    </tr>\n",
       "    <tr>\n",
       "      <th>10</th>\n",
       "      <td>400.0</td>\n",
       "      <td>1000.0</td>\n",
       "      <td>3000.0</td>\n",
       "      <td>0.0</td>\n",
       "      <td>1.0</td>\n",
       "      <td>2.0</td>\n",
       "    </tr>\n",
       "    <tr>\n",
       "      <th>11</th>\n",
       "      <td>400.0</td>\n",
       "      <td>512.0</td>\n",
       "      <td>3500.0</td>\n",
       "      <td>4.0</td>\n",
       "      <td>1.0</td>\n",
       "      <td>6.0</td>\n",
       "    </tr>\n",
       "    <tr>\n",
       "      <th>12</th>\n",
       "      <td>60.0</td>\n",
       "      <td>2000.0</td>\n",
       "      <td>8000.0</td>\n",
       "      <td>65.0</td>\n",
       "      <td>1.0</td>\n",
       "      <td>8.0</td>\n",
       "    </tr>\n",
       "    <tr>\n",
       "      <th>13</th>\n",
       "      <td>50.0</td>\n",
       "      <td>4000.0</td>\n",
       "      <td>16000.0</td>\n",
       "      <td>65.0</td>\n",
       "      <td>1.0</td>\n",
       "      <td>8.0</td>\n",
       "    </tr>\n",
       "  </tbody>\n",
       "</table>\n",
       "</div>"
      ]
     },
     "metadata": {},
     "execution_count": 311
    }
   ],
   "metadata": {}
  },
  {
   "cell_type": "code",
   "execution_count": 312,
   "source": [
    "Y.head()"
   ],
   "outputs": [
    {
     "output_type": "execute_result",
     "data": {
      "text/plain": [
       "4     132.0\n",
       "10     23.0\n",
       "11     24.0\n",
       "12     70.0\n",
       "13    117.0\n",
       "Name: Estimated RP, dtype: float64"
      ]
     },
     "metadata": {},
     "execution_count": 312
    }
   ],
   "metadata": {}
  },
  {
   "cell_type": "code",
   "execution_count": 313,
   "source": [
    "# Splitting data into test and train\n",
    "\n",
    "from sklearn.model_selection import train_test_split\n",
    "# For Case 1\n",
    "\n",
    "X_train_1, X_test_1, Y_train_1, Y_test_1 = train_test_split(X,Y,test_size = 0.2,train_size=0.8,random_state = 0)\n",
    "\n",
    "# For case 2\n",
    "\n",
    "X_train_2, X_test_2, Y_train_2, Y_test_2 = train_test_split(X,Y,test_size = 0.9,train_size=0.1,random_state = 0)"
   ],
   "outputs": [],
   "metadata": {}
  },
  {
   "cell_type": "code",
   "execution_count": 314,
   "source": [
    "# checking shape of test and training data\n",
    "\n",
    "X_train_1.shape, Y_train_1.shape"
   ],
   "outputs": [
    {
     "output_type": "execute_result",
     "data": {
      "text/plain": [
       "((119, 6), (119,))"
      ]
     },
     "metadata": {},
     "execution_count": 314
    }
   ],
   "metadata": {}
  },
  {
   "cell_type": "code",
   "execution_count": 315,
   "source": [
    "X_test_1.shape, Y_test_1.shape"
   ],
   "outputs": [
    {
     "output_type": "execute_result",
     "data": {
      "text/plain": [
       "((30, 6), (30,))"
      ]
     },
     "metadata": {},
     "execution_count": 315
    }
   ],
   "metadata": {}
  },
  {
   "cell_type": "markdown",
   "source": [
    "## Case 1:Train = 80 % Test = 20%"
   ],
   "metadata": {}
  },
  {
   "cell_type": "code",
   "execution_count": 316,
   "source": [
    "#For Case 1\n",
    "#  We will using Feature Scaling method to standardize the data \n",
    "# I am using StandardScaler from sklearn for feature\n",
    "\n",
    "# importing the StandardScaler class from preprocessing library\n",
    "from sklearn.preprocessing import StandardScaler\n",
    "\n",
    "# instantiate an object scaler\n",
    "scaler_1 = StandardScaler()\n",
    "\n",
    "# fit the scaler to the training set and then transform it\n",
    "X_train_1 = scaler_1.fit_transform(X_train_1)\n",
    "\n",
    "# transform the test set\n",
    "X_test_1 = scaler_1.transform(X_test_1)"
   ],
   "outputs": [],
   "metadata": {}
  },
  {
   "cell_type": "code",
   "execution_count": 317,
   "source": [
    "# Build and fit the linear regression model\n",
    "\n",
    "# importing the LinearRegression class from linear_model library\n",
    "from sklearn.linear_model import LinearRegression\n",
    "\n",
    "# instantiate an object lr\n",
    "lr_1 = LinearRegression()\n",
    "\n",
    "\n",
    "# Train the model using the training sets\n",
    "lr_1.fit(X_train_1, Y_train_1)"
   ],
   "outputs": [
    {
     "output_type": "execute_result",
     "data": {
      "text/plain": [
       "LinearRegression()"
      ]
     },
     "metadata": {},
     "execution_count": 317
    }
   ],
   "metadata": {}
  },
  {
   "cell_type": "code",
   "execution_count": 318,
   "source": [
    "# Predicting on the test data set\n",
    "y_pred_1 = lr_1.predict(X_test_1)\n",
    "y_pred_1"
   ],
   "outputs": [
    {
     "output_type": "execute_result",
     "data": {
      "text/plain": [
       "array([102.36524238,  12.82859186,  29.12724841,  92.93733576,\n",
       "        19.29491253, 123.42796265,  18.00192128,  27.15595863,\n",
       "        22.04940343,  44.99862791,  39.16178022,  23.75029386,\n",
       "        16.10028863,  44.9881833 ,  60.11244291,  53.56795463,\n",
       "        33.36081835,  34.02615667,  26.853044  ,  32.72314806,\n",
       "        72.79096766,  30.9660696 ,  84.16164804,  13.70715679,\n",
       "       152.07370519,  49.62640425,  50.84338411,  42.47391153,\n",
       "        11.92508613,  77.82927856])"
      ]
     },
     "metadata": {},
     "execution_count": 318
    }
   ],
   "metadata": {}
  },
  {
   "cell_type": "code",
   "execution_count": 319,
   "source": [
    "# coefficeints of the trained model\n",
    "coeff_1 = lr_1.coef_\n",
    "coeff_1"
   ],
   "outputs": [
    {
     "output_type": "execute_result",
     "data": {
      "text/plain": [
       "array([ 1.37709914,  9.78444587, 24.36612166,  9.13472397,  3.86218858,\n",
       "        0.09307925])"
      ]
     },
     "metadata": {},
     "execution_count": 319
    }
   ],
   "metadata": {}
  },
  {
   "cell_type": "code",
   "execution_count": 320,
   "source": [
    "# intercept of the model\n",
    "intercept_1 = lr_1.intercept_\n",
    "intercept_1"
   ],
   "outputs": [
    {
     "output_type": "execute_result",
     "data": {
      "text/plain": [
       "57.00840336134454"
      ]
     },
     "metadata": {},
     "execution_count": 320
    }
   ],
   "metadata": {}
  },
  {
   "cell_type": "code",
   "execution_count": 321,
   "source": [
    "# Building dataframe that contains features and estimated coefficients.\n",
    "\n",
    "dataset_1_coef = list(zip(X.columns, lr_1.coef_))\n",
    "\n",
    "pd.DataFrame(data = dataset_1_coef, columns = ['Features','Estimated Coefficients'])\n"
   ],
   "outputs": [
    {
     "output_type": "execute_result",
     "data": {
      "text/plain": [
       "             Features  Estimated Coefficients\n",
       "0  Machine Cycle Time                1.377099\n",
       "1          Min Memory                9.784446\n",
       "2          MAX Memory               24.366122\n",
       "3        Cache memory                9.134724\n",
       "4         MIN Channel                3.862189\n",
       "5         MAX Channel                0.093079"
      ],
      "text/html": [
       "<div>\n",
       "<style scoped>\n",
       "    .dataframe tbody tr th:only-of-type {\n",
       "        vertical-align: middle;\n",
       "    }\n",
       "\n",
       "    .dataframe tbody tr th {\n",
       "        vertical-align: top;\n",
       "    }\n",
       "\n",
       "    .dataframe thead th {\n",
       "        text-align: right;\n",
       "    }\n",
       "</style>\n",
       "<table border=\"1\" class=\"dataframe\">\n",
       "  <thead>\n",
       "    <tr style=\"text-align: right;\">\n",
       "      <th></th>\n",
       "      <th>Features</th>\n",
       "      <th>Estimated Coefficients</th>\n",
       "    </tr>\n",
       "  </thead>\n",
       "  <tbody>\n",
       "    <tr>\n",
       "      <th>0</th>\n",
       "      <td>Machine Cycle Time</td>\n",
       "      <td>1.377099</td>\n",
       "    </tr>\n",
       "    <tr>\n",
       "      <th>1</th>\n",
       "      <td>Min Memory</td>\n",
       "      <td>9.784446</td>\n",
       "    </tr>\n",
       "    <tr>\n",
       "      <th>2</th>\n",
       "      <td>MAX Memory</td>\n",
       "      <td>24.366122</td>\n",
       "    </tr>\n",
       "    <tr>\n",
       "      <th>3</th>\n",
       "      <td>Cache memory</td>\n",
       "      <td>9.134724</td>\n",
       "    </tr>\n",
       "    <tr>\n",
       "      <th>4</th>\n",
       "      <td>MIN Channel</td>\n",
       "      <td>3.862189</td>\n",
       "    </tr>\n",
       "    <tr>\n",
       "      <th>5</th>\n",
       "      <td>MAX Channel</td>\n",
       "      <td>0.093079</td>\n",
       "    </tr>\n",
       "  </tbody>\n",
       "</table>\n",
       "</div>"
      ]
     },
     "metadata": {},
     "execution_count": 321
    }
   ],
   "metadata": {}
  },
  {
   "cell_type": "markdown",
   "source": [
    "## Case 1: Performance Evaluation"
   ],
   "metadata": {}
  },
  {
   "cell_type": "code",
   "execution_count": 322,
   "source": [
    "# RMSE(Root Mean Square Error)\n",
    "\n",
    "from sklearn.metrics import mean_squared_error\n",
    "mse_1 = mean_squared_error(Y_test_1, y_pred_1)\n",
    "rmse_1 = np.sqrt(mse_1)\n",
    "rmse_1"
   ],
   "outputs": [
    {
     "output_type": "execute_result",
     "data": {
      "text/plain": [
       "6.225925333135013"
      ]
     },
     "metadata": {},
     "execution_count": 322
    }
   ],
   "metadata": {}
  },
  {
   "cell_type": "code",
   "execution_count": 323,
   "source": [
    "# R2 Score\n",
    "from sklearn.metrics import r2_score\n",
    "\n",
    "r2_1 = r2_score(Y_test_1, y_pred_1)\n",
    "r2_1"
   ],
   "outputs": [
    {
     "output_type": "execute_result",
     "data": {
      "text/plain": [
       "0.9681867220127276"
      ]
     },
     "metadata": {},
     "execution_count": 323
    }
   ],
   "metadata": {}
  },
  {
   "cell_type": "markdown",
   "source": [
    "<b>Analysis for Case 1:<b>\n",
    "Our R2 score value has been found to be 0.96. It means that this model explains 96%"
   ],
   "metadata": {}
  },
  {
   "cell_type": "code",
   "execution_count": 324,
   "source": [
    "# Evaluating training set performance\n",
    "\n",
    "score_training_1 = lr_1.score(X_train_1, Y_train_1)\n",
    "score_training_1.round(2)"
   ],
   "outputs": [
    {
     "output_type": "execute_result",
     "data": {
      "text/plain": [
       "0.98"
      ]
     },
     "metadata": {},
     "execution_count": 324
    }
   ],
   "metadata": {}
  },
  {
   "cell_type": "code",
   "execution_count": 325,
   "source": [
    "# Evaluating test set performance\n",
    "\n",
    "score_test_1 = lr_1.score(X_test_1, Y_test_1)\n",
    "score_test_1.round(2)"
   ],
   "outputs": [
    {
     "output_type": "execute_result",
     "data": {
      "text/plain": [
       "0.97"
      ]
     },
     "metadata": {},
     "execution_count": 325
    }
   ],
   "metadata": {}
  },
  {
   "cell_type": "code",
   "execution_count": 326,
   "source": [
    "# import the library\n",
    "from sklearn.model_selection import cross_val_score\n",
    "\n",
    "# Compute 5-fold cross-validation scores: cv_scores\n",
    "cross_val_scores_1 = cross_val_score(lr_1, X, Y, cv=5)\n"
   ],
   "outputs": [],
   "metadata": {}
  },
  {
   "cell_type": "code",
   "execution_count": 327,
   "source": [
    "cross_score_1 = mean(absolute(cross_val_scores_1))\n",
    "cross_score_1"
   ],
   "outputs": [
    {
     "output_type": "execute_result",
     "data": {
      "text/plain": [
       "0.962348016410284"
      ]
     },
     "metadata": {},
     "execution_count": 327
    }
   ],
   "metadata": {}
  },
  {
   "cell_type": "code",
   "execution_count": 328,
   "source": [
    "cross_val_scores_1.round(2)"
   ],
   "outputs": [
    {
     "output_type": "execute_result",
     "data": {
      "text/plain": [
       "array([0.97, 0.93, 0.97, 0.98, 0.96])"
      ]
     },
     "metadata": {},
     "execution_count": 328
    }
   ],
   "metadata": {}
  },
  {
   "cell_type": "code",
   "execution_count": 329,
   "source": [
    "print('Mean squared error: ' + str(np.mean((lr_1.predict(X_test_1) - Y_test_1) ** 2)))\n",
    "print('Variance score: ' + str(lr_1.score(X_test_1, Y_test_1)))"
   ],
   "outputs": [
    {
     "output_type": "stream",
     "name": "stdout",
     "text": [
      "Mean squared error: 38.76214625377232\n",
      "Variance score: 0.9681867220127276\n"
     ]
    }
   ],
   "metadata": {}
  },
  {
   "cell_type": "markdown",
   "source": [
    "## Case 2 : Train = 10 % Test = 90%"
   ],
   "metadata": {}
  },
  {
   "cell_type": "code",
   "execution_count": 330,
   "source": [
    "# checking shape of test and training data for Case 2\n",
    "\n",
    "X_train_2.shape, Y_train_2.shape"
   ],
   "outputs": [
    {
     "output_type": "execute_result",
     "data": {
      "text/plain": [
       "((14, 6), (14,))"
      ]
     },
     "metadata": {},
     "execution_count": 330
    }
   ],
   "metadata": {}
  },
  {
   "cell_type": "code",
   "execution_count": 331,
   "source": [
    "X_test_2.shape, Y_test_2.shape"
   ],
   "outputs": [
    {
     "output_type": "execute_result",
     "data": {
      "text/plain": [
       "((135, 6), (135,))"
      ]
     },
     "metadata": {},
     "execution_count": 331
    }
   ],
   "metadata": {}
  },
  {
   "cell_type": "code",
   "execution_count": 332,
   "source": [
    "# For Case 2\n",
    "\n",
    "#  We will using Feature Scaling method to standardize the data \n",
    "# I am using StandardScaler from sklearn for feature\n",
    "\n",
    "# importing the StandardScaler class from preprocessing library\n",
    "from sklearn.preprocessing import StandardScaler\n",
    "\n",
    "# instantiate an object scaler\n",
    "scaler_2 = StandardScaler()\n",
    "\n",
    "# fit the scaler to the training set and then transform it\n",
    "X_train_2 = scaler_2.fit_transform(X_train_2)\n",
    "\n",
    "# transform the test set\n",
    "X_test_2 = scaler_2.transform(X_test_2)"
   ],
   "outputs": [],
   "metadata": {}
  },
  {
   "cell_type": "code",
   "execution_count": 333,
   "source": [
    "# Build and fit the linear regression model\n",
    "\n",
    "# importing the LinearRegression class from linear_model library\n",
    "from sklearn.linear_model import LinearRegression\n",
    "\n",
    "# instantiate an object lr\n",
    "lr_2 = LinearRegression()\n",
    "\n",
    "\n",
    "# Train the model using the training sets\n",
    "lr_2.fit(X_train_2, Y_train_2)"
   ],
   "outputs": [
    {
     "output_type": "execute_result",
     "data": {
      "text/plain": [
       "LinearRegression()"
      ]
     },
     "metadata": {},
     "execution_count": 333
    }
   ],
   "metadata": {}
  },
  {
   "cell_type": "code",
   "execution_count": 334,
   "source": [
    "# Predicting on the test data set\n",
    "y_pred_2 = lr_2.predict(X_test_2)\n",
    "y_pred_2"
   ],
   "outputs": [
    {
     "output_type": "execute_result",
     "data": {
      "text/plain": [
       "array([106.88946513,  14.41090979,  28.93776549,  96.45706627,\n",
       "        20.62860199, 124.52989116,  23.50104116,  28.19663252,\n",
       "        25.91741406,  49.36152309,  48.00373385,  27.05092154,\n",
       "        16.92892819,  49.28298295,  70.43923891,  56.32114088,\n",
       "        36.23763905,  34.03420935,  33.38009472,  33.03838238,\n",
       "        77.96988292,  34.17003522,  95.55306477,  15.99407228,\n",
       "       179.54481861,  53.88620508,  55.9846199 ,  47.73004079,\n",
       "        14.21943033,  77.60575241,  89.298216  ,  61.07094814,\n",
       "        61.07094814,  40.37193096,  80.9653378 ,  56.45464335,\n",
       "       138.10774906,  32.54579338,  73.04484616,  27.51772762,\n",
       "        48.16222032,  42.00450621,  23.82503983,  51.37624083,\n",
       "        24.17912087, 131.86065161, 105.26329988,  68.21219417,\n",
       "        56.60809294,  47.92363375,  25.66977651,  55.40493156,\n",
       "        59.19624035, 104.81361586,  29.33200777,  52.79414601,\n",
       "        29.67453411,  69.56121731,  32.54579338,  91.99607883,\n",
       "        50.52089978,  95.55306477,  24.91702035,  48.23349882,\n",
       "        85.81419311,  16.49548733,  18.65206831,   9.86744551,\n",
       "        99.23690785, 139.12219726,  22.81469673,  30.96815712,\n",
       "        75.82005307,  62.76361005,  94.07014158,  86.81577583,\n",
       "        16.33241133, 120.16996956,  99.23690785,  35.91140595,\n",
       "        16.59805336,  62.50523281, 116.53618247,  29.69837517,\n",
       "        52.35479905,  44.91603653, 148.9393282 ,  45.95160314,\n",
       "       116.82573927,  70.80416901,  24.26476632,  23.65427584,\n",
       "        65.52095426,   9.11034219, 119.9324764 ,  14.28444177,\n",
       "        32.76428123,  52.86008875,   6.78266322,  69.10487401,\n",
       "        23.50104116, 121.96082016, 119.98509176,  90.44991941,\n",
       "        89.37675613,  68.67933666,  94.15417695,  45.18826197,\n",
       "        27.14273593,  51.54644256,  50.13328913,  27.40884154,\n",
       "        18.23128917,  32.17444088, 165.45239479,  47.95104085,\n",
       "       158.79052689,  35.78734194,  77.47894254,  80.9653378 ,\n",
       "        89.37675613,  19.29850409,  26.58112577,  88.73856314,\n",
       "        97.73003663,  27.42512894,  93.91998685,  29.72954558,\n",
       "        73.11795366,  90.23209719,  44.38216524,  34.03420935,\n",
       "        28.57100851,  28.30211262, 107.46059426])"
      ]
     },
     "metadata": {},
     "execution_count": 334
    }
   ],
   "metadata": {}
  },
  {
   "cell_type": "code",
   "execution_count": 335,
   "source": [
    "# coefficeints of the trained model\n",
    "coeff_2 = lr_2.coef_\n",
    "coeff_2"
   ],
   "outputs": [
    {
     "output_type": "execute_result",
     "data": {
      "text/plain": [
       "array([ 2.24718445,  5.80612179, 43.15892922,  9.18386461,  1.85544628,\n",
       "        1.01006663])"
      ]
     },
     "metadata": {},
     "execution_count": 335
    }
   ],
   "metadata": {}
  },
  {
   "cell_type": "code",
   "execution_count": 336,
   "source": [
    "# intercept of the model\n",
    "intercept_2 = lr_2.intercept_\n",
    "intercept_2"
   ],
   "outputs": [
    {
     "output_type": "execute_result",
     "data": {
      "text/plain": [
       "60.0"
      ]
     },
     "metadata": {},
     "execution_count": 336
    }
   ],
   "metadata": {}
  },
  {
   "cell_type": "code",
   "execution_count": 337,
   "source": [
    "# Building dataframe that contains features and estimated coefficients.\n",
    "\n",
    "dataset_2_coef = list(zip(X.columns, lr_2.coef_))\n",
    "pd.DataFrame(data = dataset_2_coef, columns = ['Features', 'Estimated Coefficients'])"
   ],
   "outputs": [
    {
     "output_type": "execute_result",
     "data": {
      "text/plain": [
       "             Features  Estimated Coefficients\n",
       "0  Machine Cycle Time                2.247184\n",
       "1          Min Memory                5.806122\n",
       "2          MAX Memory               43.158929\n",
       "3        Cache memory                9.183865\n",
       "4         MIN Channel                1.855446\n",
       "5         MAX Channel                1.010067"
      ],
      "text/html": [
       "<div>\n",
       "<style scoped>\n",
       "    .dataframe tbody tr th:only-of-type {\n",
       "        vertical-align: middle;\n",
       "    }\n",
       "\n",
       "    .dataframe tbody tr th {\n",
       "        vertical-align: top;\n",
       "    }\n",
       "\n",
       "    .dataframe thead th {\n",
       "        text-align: right;\n",
       "    }\n",
       "</style>\n",
       "<table border=\"1\" class=\"dataframe\">\n",
       "  <thead>\n",
       "    <tr style=\"text-align: right;\">\n",
       "      <th></th>\n",
       "      <th>Features</th>\n",
       "      <th>Estimated Coefficients</th>\n",
       "    </tr>\n",
       "  </thead>\n",
       "  <tbody>\n",
       "    <tr>\n",
       "      <th>0</th>\n",
       "      <td>Machine Cycle Time</td>\n",
       "      <td>2.247184</td>\n",
       "    </tr>\n",
       "    <tr>\n",
       "      <th>1</th>\n",
       "      <td>Min Memory</td>\n",
       "      <td>5.806122</td>\n",
       "    </tr>\n",
       "    <tr>\n",
       "      <th>2</th>\n",
       "      <td>MAX Memory</td>\n",
       "      <td>43.158929</td>\n",
       "    </tr>\n",
       "    <tr>\n",
       "      <th>3</th>\n",
       "      <td>Cache memory</td>\n",
       "      <td>9.183865</td>\n",
       "    </tr>\n",
       "    <tr>\n",
       "      <th>4</th>\n",
       "      <td>MIN Channel</td>\n",
       "      <td>1.855446</td>\n",
       "    </tr>\n",
       "    <tr>\n",
       "      <th>5</th>\n",
       "      <td>MAX Channel</td>\n",
       "      <td>1.010067</td>\n",
       "    </tr>\n",
       "  </tbody>\n",
       "</table>\n",
       "</div>"
      ]
     },
     "metadata": {},
     "execution_count": 337
    }
   ],
   "metadata": {}
  },
  {
   "cell_type": "markdown",
   "source": [
    "## Case 2: Performance Evaluation¶"
   ],
   "metadata": {}
  },
  {
   "cell_type": "code",
   "execution_count": 338,
   "source": [
    "# RMSE(Root Mean Square Error)\n",
    "\n",
    "from sklearn.metrics import mean_squared_error\n",
    "mse_2 = mean_squared_error(Y_test_2, y_pred_2)\n",
    "rmse_2 = np.sqrt(mse_2)\n",
    "rmse_2"
   ],
   "outputs": [
    {
     "output_type": "execute_result",
     "data": {
      "text/plain": [
       "8.947419192227848"
      ]
     },
     "metadata": {},
     "execution_count": 338
    }
   ],
   "metadata": {}
  },
  {
   "cell_type": "code",
   "execution_count": 339,
   "source": [
    "# R2 Score\n",
    "from sklearn.metrics import r2_score\n",
    "\n",
    "r2_2 = r2_score(Y_test_2, y_pred_2)\n",
    "r2_2"
   ],
   "outputs": [
    {
     "output_type": "execute_result",
     "data": {
      "text/plain": [
       "0.9406517510907891"
      ]
     },
     "metadata": {},
     "execution_count": 339
    }
   ],
   "metadata": {}
  },
  {
   "cell_type": "markdown",
   "source": [
    "<b>Analysis for Case 2:<b>\n",
    "Our R2 score value has been found to be 0.94. It means that this model explains 94%"
   ],
   "metadata": {}
  },
  {
   "cell_type": "code",
   "execution_count": 340,
   "source": [
    "# Evaluating training set performance\n",
    "score_training_2 = lr_2.score(X_train_2, Y_train_2)\n",
    "score_training_2.round(2)"
   ],
   "outputs": [
    {
     "output_type": "execute_result",
     "data": {
      "text/plain": [
       "0.99"
      ]
     },
     "metadata": {},
     "execution_count": 340
    }
   ],
   "metadata": {}
  },
  {
   "cell_type": "code",
   "execution_count": 341,
   "source": [
    "# Evaluating test set performance\n",
    "score_test_2 = lr_2.score(X_test_2, Y_test_2)\n",
    "score_test_2.round(2)"
   ],
   "outputs": [
    {
     "output_type": "execute_result",
     "data": {
      "text/plain": [
       "0.94"
      ]
     },
     "metadata": {},
     "execution_count": 341
    }
   ],
   "metadata": {}
  },
  {
   "cell_type": "markdown",
   "source": [
    "Training set and test set performances are comparable. An R Square value of 0.92 is very good."
   ],
   "metadata": {}
  },
  {
   "cell_type": "code",
   "execution_count": 342,
   "source": [
    "# Compute 5-fold cross-validation scores: cv_scores\n",
    "from sklearn.model_selection import cross_val_score\n",
    "cross_val_scores_2 = cross_val_score(lr_2, X, Y, cv=5)"
   ],
   "outputs": [],
   "metadata": {}
  },
  {
   "cell_type": "code",
   "execution_count": 343,
   "source": [
    "# Mean absolute score\n",
    "cross_score_2 = mean(absolute(cross_val_scores_2))\n",
    "cross_score_2 "
   ],
   "outputs": [
    {
     "output_type": "execute_result",
     "data": {
      "text/plain": [
       "0.962348016410284"
      ]
     },
     "metadata": {},
     "execution_count": 343
    }
   ],
   "metadata": {}
  },
  {
   "cell_type": "code",
   "execution_count": 344,
   "source": [
    "#cross validation scores\n",
    "cross_val_scores_2.round(2)"
   ],
   "outputs": [
    {
     "output_type": "execute_result",
     "data": {
      "text/plain": [
       "array([0.97, 0.93, 0.97, 0.98, 0.96])"
      ]
     },
     "metadata": {},
     "execution_count": 344
    }
   ],
   "metadata": {}
  },
  {
   "cell_type": "code",
   "execution_count": 345,
   "source": [
    "#Mean score for cross validation\n",
    "avg_score_2 = np.mean(cross_val_scores_2).round(2)\n",
    "avg_score_2"
   ],
   "outputs": [
    {
     "output_type": "execute_result",
     "data": {
      "text/plain": [
       "0.96"
      ]
     },
     "metadata": {},
     "execution_count": 345
    }
   ],
   "metadata": {}
  },
  {
   "cell_type": "code",
   "execution_count": 346,
   "source": [
    "print('Mean squared error: ' + str(np.mean((lr_2.predict(X_test_2) - Y_test_2) ** 2)))\n",
    "print('Variance score: ' + str(lr_2.score(X_test_2, Y_test_2)))"
   ],
   "outputs": [
    {
     "output_type": "stream",
     "name": "stdout",
     "text": [
      "Mean squared error: 80.05631020144729\n",
      "Variance score: 0.9406517510907891\n"
     ]
    }
   ],
   "metadata": {}
  },
  {
   "cell_type": "markdown",
   "source": [
    "## Performance metrics table"
   ],
   "metadata": {}
  },
  {
   "cell_type": "code",
   "execution_count": 347,
   "source": [
    "# Printing performance in table for both cases\n",
    "\n",
    "p_df = pd.DataFrame()\n",
    "\n",
    "df1 = {'R2-Score': r2_1, 'RMSE':rmse_1}\n",
    "df2 = {'R2-Score': r2_2, 'RMSE':rmse_2}\n",
    "p_df = p_df.append(df1, ignore_index = True)\n",
    "p_df = p_df.append(df2, ignore_index = True)\n",
    "p_df.index = ['Case 1','Case 2']\n",
    "p_df"
   ],
   "outputs": [
    {
     "output_type": "execute_result",
     "data": {
      "text/plain": [
       "        R2-Score      RMSE\n",
       "Case 1  0.968187  6.225925\n",
       "Case 2  0.940652  8.947419"
      ],
      "text/html": [
       "<div>\n",
       "<style scoped>\n",
       "    .dataframe tbody tr th:only-of-type {\n",
       "        vertical-align: middle;\n",
       "    }\n",
       "\n",
       "    .dataframe tbody tr th {\n",
       "        vertical-align: top;\n",
       "    }\n",
       "\n",
       "    .dataframe thead th {\n",
       "        text-align: right;\n",
       "    }\n",
       "</style>\n",
       "<table border=\"1\" class=\"dataframe\">\n",
       "  <thead>\n",
       "    <tr style=\"text-align: right;\">\n",
       "      <th></th>\n",
       "      <th>R2-Score</th>\n",
       "      <th>RMSE</th>\n",
       "    </tr>\n",
       "  </thead>\n",
       "  <tbody>\n",
       "    <tr>\n",
       "      <th>Case 1</th>\n",
       "      <td>0.968187</td>\n",
       "      <td>6.225925</td>\n",
       "    </tr>\n",
       "    <tr>\n",
       "      <th>Case 2</th>\n",
       "      <td>0.940652</td>\n",
       "      <td>8.947419</td>\n",
       "    </tr>\n",
       "  </tbody>\n",
       "</table>\n",
       "</div>"
      ]
     },
     "metadata": {},
     "execution_count": 347
    }
   ],
   "metadata": {}
  },
  {
   "cell_type": "code",
   "execution_count": 352,
   "source": [
    "import matplotlib.pyplot as plt\n",
    "\n",
    "# Plotting actual vs predicted ERP for Case 1\n",
    "\n",
    "plt.scatter(Y_test_1,y_pred_1)\n",
    "plt.xlabel('actual_ERP')\n",
    "plt.ylabel('predicted_ERP')\n",
    "plt.title(\"Case 1: Train:80% Test: 20%\")"
   ],
   "outputs": [
    {
     "output_type": "execute_result",
     "data": {
      "text/plain": [
       "Text(0.5, 1.0, 'Case 1: Train:80% Test: 20%')"
      ]
     },
     "metadata": {},
     "execution_count": 352
    },
    {
     "output_type": "display_data",
     "data": {
      "text/plain": [
       "<Figure size 640x480 with 1 Axes>"
      ],
      "image/png": "[encoded data removed]"
     },
     "metadata": {}
    }
   ],
   "metadata": {}
  },
  {
   "cell_type": "code",
   "execution_count": 353,
   "source": [
    "import matplotlib.pyplot as plt\n",
    "\n",
    "# Plotting actual vs predicted ERP for Case 2\n",
    "\n",
    "plt.scatter(Y_test_2,y_pred_2)\n",
    "plt.title(\"Case 2: Train:10% Test: 90%\")\n",
    "plt.xlabel('actual_ERP')\n",
    "plt.ylabel('predicted_ERP')"
   ],
   "outputs": [
    {
     "output_type": "execute_result",
     "data": {
      "text/plain": [
       "Text(0, 0.5, 'predicted_ERP')"
      ]
     },
     "metadata": {},
     "execution_count": 353
    },
    {
     "output_type": "display_data",
     "data": {
      "text/plain": [
       "<Figure size 640x480 with 1 Axes>"
      ],
      "image/png": "[encoded data removed]"
     },
     "metadata": {}
    }
   ],
   "metadata": {}
  },
  {
   "cell_type": "markdown",
   "source": [
    "## 4. Prediction for the test data and display the results for the inference. Calculate all the evaluation metrics and choose best for your model."
   ],
   "metadata": {}
  },
  {
   "cell_type": "markdown",
   "source": [
    "1. For Case 1: Train = 80 % Test = 20%\n",
    "\n",
    "R2_score : 0.96\n",
    "\n",
    "Our R2 score value has been found to be 0.96. It means that this model explains 96% of the variance in our dependent variable.\n",
    "\n",
    "Mean squared error: 38.76214625377232\n",
    "\n",
    "Variance score: 0.9681867220127276\n",
    "\n",
    "In business decisions, the benchmark for the R2 score value is 0.7. It means if R2 score value >= 0.7, then the model is good enough to deploy on unseen data whereas if R2 score value < 0.7, then the model is not good enough to deploy.\n",
    "\n",
    "2. For Case 2: Train = 10 % Test = 90%\n",
    "\n",
    "R2 score: 0.94\n",
    "\n",
    "Our R2 score value has been found to be 0.94. It means that this model explains 94% of the variance in our dependent variable.\n",
    "\n",
    "Mean squared error: 80.05631020144729\n",
    "\n",
    "Variance score: 0.9406517510907891\n",
    "\n",
    "Performance Evaluation: If we compare Case 1 and Case 2, For training set in case 1(Train = 80 % Test = 20%) to case 2 (Train = 10 % Test = 90%), variance score decreased from 96% to 94% and MSE increased from 38.7 to 80.05\n",
    "hence we can say that Case 1 with training set 80% gives better results than case 2."
   ],
   "metadata": {}
  }
 ],
 "metadata": {
  "kernelspec": {
   "display_name": "Python 3 (ipykernel)",
   "language": "python",
   "name": "python3"
  },
  "language_info": {
   "codemirror_mode": {
    "name": "ipython",
    "version": 3
   },
   "file_extension": ".py",
   "mimetype": "text/x-python",
   "name": "python",
   "nbconvert_exporter": "python",
   "pygments_lexer": "ipython3",
   "version": "3.9.13"
  }
 },
 "nbformat": 4,
 "nbformat_minor": 4
}